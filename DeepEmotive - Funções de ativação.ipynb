{
 "cells": [
  {
   "cell_type": "markdown",
   "metadata": {
    "collapsed": true
   },
   "source": [
    "<h1>DEEP-EMOTIVE</h1>\n",
    "<h2>Trabalho de conclusão de curso - Ciência da Computação  - FURB - 2017</h2>\n",
    "<h3>Autor: Diogenes Ademir Domingos<br>\n",
    " Modulo de Funções de ativação<br>\n",
    "Contato: k.fus@hotmail.com</h3>\n",
    "\n",
    "<p>Deep-Emotive é um protótipo para reconhecer e classificar as expressões faciais das emoções, alegria, desgosto, medo, raiva, surpresa, tristeza, consideradas por Ekman et al. (1987), como básicas e universais, utilizando técnicas já consolidadas das áreas de Processamento Digital de Imagem e Visão Computacional. Estas técnicas são combinadas com uma nova abordagem, considerada a mais avançada no reconhecimento visual de objetos através do aprendizado de máquina, o Aprendizado Profundo ou Deep Learning.</p>\n",
    "\n",
    "<p>Este modulo ilustra as funções de ativação, da fundamendação teórica do Deep Emotive</p>"
   ]
  },
  {
   "cell_type": "code",
   "execution_count": 1,
   "metadata": {
    "collapsed": true
   },
   "outputs": [],
   "source": [
    "import numpy as np\n",
    "import matplotlib\n",
    "import matplotlib.pyplot as plt\n",
    "from matplotlib.mlab import normpdf\n",
    "\n",
    "# Configurando o plot para ser inline ao inves de outra janela.\n",
    "%matplotlib inline\n",
    "plt.rcParams['figure.figsize'] = (10.0, 8.0) # padronizando tamanho plot\n",
    "plt.rcParams['image.interpolation'] = 'nearest'\n",
    "#plt.rcParams['image.cmap'] = 'gray' # padronizando color map\n",
    "%load_ext autoreload\n",
    "%autoreload 2"
   ]
  },
  {
   "cell_type": "markdown",
   "metadata": {},
   "source": [
    "# Função de ativação Sigmoid"
   ]
  },
  {
   "cell_type": "markdown",
   "metadata": {},
   "source": [
    "\\begin{align}\n",
    "\\sigma(x)= \\ {g (x)} & = \\frac{1}{1 + e \\ ^{-x}}\\\\\n",
    "\\end{align}"
   ]
  },
  {
   "cell_type": "code",
   "execution_count": 3,
   "metadata": {
    "collapsed": true
   },
   "outputs": [],
   "source": [
    "def sigmode(x):\n",
    "    return 1. / (1. + np.exp(x))"
   ]
  },
  {
   "cell_type": "markdown",
   "metadata": {},
   "source": [
    "# Função de ativivação Hiperbólica Tangente"
   ]
  },
  {
   "cell_type": "markdown",
   "metadata": {},
   "source": [
    "\\begin{align}\n",
    "\\ tahn(x)=\\ {g (x)} & = \\frac{e \\ ^{ x} - e^{ \\ -x}}{e \\ ^{ x} + e \\ ^{ \\ -x}} \\\\\n",
    "\\end{align} "
   ]
  },
  {
   "cell_type": "code",
   "execution_count": 4,
   "metadata": {
    "collapsed": true
   },
   "outputs": [],
   "source": [
    "def tangente(x):\n",
    "    return (np.exp(x) - np.exp(-(x))) / (np.exp(x) + np.exp(-(x)))"
   ]
  },
  {
   "cell_type": "markdown",
   "metadata": {},
   "source": [
    "# Função Retificadora Linear"
   ]
  },
  {
   "cell_type": "markdown",
   "metadata": {},
   "source": [
    "\\begin{align}\n",
    "\\ ReLU(x)=\\ {g (x)} & = max({ \\ 0, \\ x})\\\\\n",
    "\\end{align} "
   ]
  },
  {
   "cell_type": "code",
   "execution_count": 5,
   "metadata": {
    "collapsed": true
   },
   "outputs": [],
   "source": [
    "def relu(x):\n",
    "    return np.maximum(np.zeros_like(x), x)"
   ]
  },
  {
   "cell_type": "markdown",
   "metadata": {},
   "source": [
    "# Visualização gráfica"
   ]
  },
  {
   "cell_type": "code",
   "execution_count": 6,
   "metadata": {},
   "outputs": [
    {
     "data": {
      "image/png": "[encoded data removed]",
      "text/plain": [
       "<matplotlib.figure.Figure at 0x2e95eb260b8>"
      ]
     },
     "metadata": {},
     "output_type": "display_data"
    }
   ],
   "source": [
    "x = np.arange(-5, 5, .01)\n",
    "f, axarr = plt.subplots(1,3, figsize=(12,3))\n",
    "\n",
    "S = 1-sigmode(x) # invertida (-1)\n",
    "axarr[0].set_title('Sigmoide')\n",
    "axarr[0].plot(x, S, color='red')\n",
    "\n",
    "S = tangente(x)\n",
    "axarr[1].set_title('Tangente')\n",
    "axarr[1].plot(x, S, color='blue')\n",
    "\n",
    "S = relu(x)\n",
    "axarr[2].set_title('ReLU')\n",
    "axarr[2].plot(x, S, color='black')\n",
    "\n",
    "plt.show()"
   ]
  },
  {
   "cell_type": "code",
   "execution_count": null,
   "metadata": {
    "collapsed": true
   },
   "outputs": [],
   "source": []
  }
 ],
 "metadata": {
  "kernelspec": {
   "display_name": "Python 3",
   "language": "python",
   "name": "python3"
  },
  "language_info": {
   "codemirror_mode": {
    "name": "ipython",
    "version": 3
   },
   "file_extension": ".py",
   "mimetype": "text/x-python",
   "name": "python",
   "nbconvert_exporter": "python",
   "pygments_lexer": "ipython3",
   "version": "3.6.2"
  }
 },
 "nbformat": 4,
 "nbformat_minor": 2
}
